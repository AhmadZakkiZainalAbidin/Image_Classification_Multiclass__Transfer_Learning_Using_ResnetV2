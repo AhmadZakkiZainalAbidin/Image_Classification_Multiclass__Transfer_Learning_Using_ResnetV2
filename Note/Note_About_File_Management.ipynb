{
  "nbformat": 4,
  "nbformat_minor": 0,
  "metadata": {
    "colab": {
      "provenance": [],
      "authorship_tag": "ABX9TyNO8XXAFHm12+dcFO0fTxbr",
      "include_colab_link": true
    },
    "kernelspec": {
      "name": "python3",
      "display_name": "Python 3"
    },
    "language_info": {
      "name": "python"
    }
  },
  "cells": [
    {
      "cell_type": "markdown",
      "metadata": {
        "id": "view-in-github",
        "colab_type": "text"
      },
      "source": [
        "<a href=\"https://colab.research.google.com/github/AhmadZakkiZainalAbidin/Image_Classification_Multiclass__Transfer_Learning_Using_ResnetV2/blob/main/Note_About_File_Management.ipynb\" target=\"_parent\"><img src=\"https://colab.research.google.com/assets/colab-badge.svg\" alt=\"Open In Colab\"/></a>"
      ]
    },
    {
      "cell_type": "markdown",
      "source": [
        "**Note Tambahan**\n",
        "\n",
        "File tambahan ini merupakan tambahan bagaimana cara melakukan copy file dengan jumlah yang spesifik. Dimana pada project transver learning sebelumnya manajemen file masih dilakukan manual dengan split folder dan directory editor"
      ],
      "metadata": {
        "id": "2BUASPNbilUw"
      }
    },
    {
      "cell_type": "code",
      "source": [
        "! mkdir '/content/decoy_folder'"
      ],
      "metadata": {
        "id": "JEtfSMPfjFzk"
      },
      "execution_count": 1,
      "outputs": []
    },
    {
      "cell_type": "code",
      "execution_count": 2,
      "metadata": {
        "id": "B5WlNffsifEa"
      },
      "outputs": [],
      "source": [
        "import os\n",
        "import shutil\n",
        "\n",
        "#Sumber direktory\n",
        "source_dir ='/content/sample_data/'\n",
        "\n",
        "#Destinasi direktory yang dituju\n",
        "destination_dir = '/content/decoy_folder'\n",
        "\n",
        "files = os.listdir(source_dir)\n",
        "\n",
        "#Melakukan copy berdasarkan urutan nama file(3 teratas)\n",
        "for file_name in files[:3] :\n",
        "  source_file = os.path.join(source_dir, file_name)\n",
        "  shutil.copy(source_file, destination_dir)"
      ]
    }
  ]
}