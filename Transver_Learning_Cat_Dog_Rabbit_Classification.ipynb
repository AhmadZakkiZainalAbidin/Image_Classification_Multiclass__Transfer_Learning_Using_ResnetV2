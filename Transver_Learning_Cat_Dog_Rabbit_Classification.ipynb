{
  "nbformat": 4,
  "nbformat_minor": 0,
  "metadata": {
    "colab": {
      "provenance": [],
      "gpuType": "T4",
      "authorship_tag": "ABX9TyPmzDOp7XPSY9Y8SkcpfurZ",
      "include_colab_link": true
    },
    "kernelspec": {
      "name": "python3",
      "display_name": "Python 3"
    },
    "language_info": {
      "name": "python"
    },
    "accelerator": "GPU"
  },
  "cells": [
    {
      "cell_type": "markdown",
      "metadata": {
        "id": "view-in-github",
        "colab_type": "text"
      },
      "source": [
        "<a href=\"https://colab.research.google.com/github/AhmadZakkiZainalAbidin/Image_Classification_Multiclass__Transfer_Learning_Using_ResnetV2/blob/main/Transver_Learning_Cat_Dog_Rabbit_Classification.ipynb\" target=\"_parent\"><img src=\"https://colab.research.google.com/assets/colab-badge.svg\" alt=\"Open In Colab\"/></a>"
      ]
    },
    {
      "cell_type": "markdown",
      "source": [
        "# **Pendahuluan**"
      ],
      "metadata": {
        "id": "uLKjezi8Hs4a"
      }
    },
    {
      "cell_type": "markdown",
      "source": [
        "**Transfer Learning**\n",
        "\n",
        "Pada aplikasi computer vision, jumlah data akan sangat mempengaruhi performa model yang dibuat. Dengan data yang cenderung terbatas dapat mengakibatkan model akan bersifat overfit. Untuk mengatasi masalah ini selain kita dapat mengatasinya dengan augmentasi data. Kita juga dapat menggunakan model yang telah dilatih sebelumnya, Model ini dapat ditambahkan pada awal layer untuk mengenali bentuk-bentuk pada gambar"
      ],
      "metadata": {
        "id": "oHaT2iTDHCy8"
      }
    },
    {
      "cell_type": "markdown",
      "source": [
        "# **Membuat Model dengan Transfer Learning**"
      ],
      "metadata": {
        "id": "ExLtSnyMHr2A"
      }
    },
    {
      "cell_type": "markdown",
      "source": [
        "Untuk data set yang digunakan yaitu cat, dog, dan rabbit. Dimana untuk masing masing dataset dapat diakses pada link berikut.\n",
        "\n",
        "\n",
        "*   https://www.kaggle.com/datasets/samuelcortinhas/cats-and-dogs-image-classification?select=train (untuk cat & dog)\n",
        "*   https://www.kaggle.com/datasets/muniryadi/cat-vs-rabbit (untuk rabbit)\n",
        "\n",
        "**Perlu diperhatikan kita akan menggunakan masing-masing 100 gambar dari keseluruhan data**\n"
      ],
      "metadata": {
        "id": "cnaDWDZfH3-7"
      }
    },
    {
      "cell_type": "markdown",
      "source": [
        "# **Melakukan Load data untuk Dataset Kaggle**"
      ],
      "metadata": {
        "id": "4ZcciM1aLkjb"
      }
    },
    {
      "cell_type": "code",
      "execution_count": null,
      "metadata": {
        "id": "w4G0x2D2Gz66"
      },
      "outputs": [],
      "source": [
        "#Melakukan install kaggle\n",
        "!pip install -q kaggle"
      ]
    },
    {
      "cell_type": "code",
      "source": [
        "#upload token kaggle.json untuk mengakses data set yang diperlukan\n",
        "from google.colab import files\n",
        "files.upload()"
      ],
      "metadata": {
        "colab": {
          "base_uri": "https://localhost:8080/",
          "height": 91
        },
        "id": "wAlpmwKiLKla",
        "outputId": "394a6c50-b560-4a59-963c-7c1e771dde20"
      },
      "execution_count": null,
      "outputs": [
        {
          "output_type": "display_data",
          "data": {
            "text/plain": [
              "<IPython.core.display.HTML object>"
            ],
            "text/html": [
              "\n",
              "     <input type=\"file\" id=\"files-4c4ecf39-7af1-48c3-a8ea-b33e7b4760db\" name=\"files[]\" multiple disabled\n",
              "        style=\"border:none\" />\n",
              "     <output id=\"result-4c4ecf39-7af1-48c3-a8ea-b33e7b4760db\">\n",
              "      Upload widget is only available when the cell has been executed in the\n",
              "      current browser session. Please rerun this cell to enable.\n",
              "      </output>\n",
              "      <script>// Copyright 2017 Google LLC\n",
              "//\n",
              "// Licensed under the Apache License, Version 2.0 (the \"License\");\n",
              "// you may not use this file except in compliance with the License.\n",
              "// You may obtain a copy of the License at\n",
              "//\n",
              "//      http://www.apache.org/licenses/LICENSE-2.0\n",
              "//\n",
              "// Unless required by applicable law or agreed to in writing, software\n",
              "// distributed under the License is distributed on an \"AS IS\" BASIS,\n",
              "// WITHOUT WARRANTIES OR CONDITIONS OF ANY KIND, either express or implied.\n",
              "// See the License for the specific language governing permissions and\n",
              "// limitations under the License.\n",
              "\n",
              "/**\n",
              " * @fileoverview Helpers for google.colab Python module.\n",
              " */\n",
              "(function(scope) {\n",
              "function span(text, styleAttributes = {}) {\n",
              "  const element = document.createElement('span');\n",
              "  element.textContent = text;\n",
              "  for (const key of Object.keys(styleAttributes)) {\n",
              "    element.style[key] = styleAttributes[key];\n",
              "  }\n",
              "  return element;\n",
              "}\n",
              "\n",
              "// Max number of bytes which will be uploaded at a time.\n",
              "const MAX_PAYLOAD_SIZE = 100 * 1024;\n",
              "\n",
              "function _uploadFiles(inputId, outputId) {\n",
              "  const steps = uploadFilesStep(inputId, outputId);\n",
              "  const outputElement = document.getElementById(outputId);\n",
              "  // Cache steps on the outputElement to make it available for the next call\n",
              "  // to uploadFilesContinue from Python.\n",
              "  outputElement.steps = steps;\n",
              "\n",
              "  return _uploadFilesContinue(outputId);\n",
              "}\n",
              "\n",
              "// This is roughly an async generator (not supported in the browser yet),\n",
              "// where there are multiple asynchronous steps and the Python side is going\n",
              "// to poll for completion of each step.\n",
              "// This uses a Promise to block the python side on completion of each step,\n",
              "// then passes the result of the previous step as the input to the next step.\n",
              "function _uploadFilesContinue(outputId) {\n",
              "  const outputElement = document.getElementById(outputId);\n",
              "  const steps = outputElement.steps;\n",
              "\n",
              "  const next = steps.next(outputElement.lastPromiseValue);\n",
              "  return Promise.resolve(next.value.promise).then((value) => {\n",
              "    // Cache the last promise value to make it available to the next\n",
              "    // step of the generator.\n",
              "    outputElement.lastPromiseValue = value;\n",
              "    return next.value.response;\n",
              "  });\n",
              "}\n",
              "\n",
              "/**\n",
              " * Generator function which is called between each async step of the upload\n",
              " * process.\n",
              " * @param {string} inputId Element ID of the input file picker element.\n",
              " * @param {string} outputId Element ID of the output display.\n",
              " * @return {!Iterable<!Object>} Iterable of next steps.\n",
              " */\n",
              "function* uploadFilesStep(inputId, outputId) {\n",
              "  const inputElement = document.getElementById(inputId);\n",
              "  inputElement.disabled = false;\n",
              "\n",
              "  const outputElement = document.getElementById(outputId);\n",
              "  outputElement.innerHTML = '';\n",
              "\n",
              "  const pickedPromise = new Promise((resolve) => {\n",
              "    inputElement.addEventListener('change', (e) => {\n",
              "      resolve(e.target.files);\n",
              "    });\n",
              "  });\n",
              "\n",
              "  const cancel = document.createElement('button');\n",
              "  inputElement.parentElement.appendChild(cancel);\n",
              "  cancel.textContent = 'Cancel upload';\n",
              "  const cancelPromise = new Promise((resolve) => {\n",
              "    cancel.onclick = () => {\n",
              "      resolve(null);\n",
              "    };\n",
              "  });\n",
              "\n",
              "  // Wait for the user to pick the files.\n",
              "  const files = yield {\n",
              "    promise: Promise.race([pickedPromise, cancelPromise]),\n",
              "    response: {\n",
              "      action: 'starting',\n",
              "    }\n",
              "  };\n",
              "\n",
              "  cancel.remove();\n",
              "\n",
              "  // Disable the input element since further picks are not allowed.\n",
              "  inputElement.disabled = true;\n",
              "\n",
              "  if (!files) {\n",
              "    return {\n",
              "      response: {\n",
              "        action: 'complete',\n",
              "      }\n",
              "    };\n",
              "  }\n",
              "\n",
              "  for (const file of files) {\n",
              "    const li = document.createElement('li');\n",
              "    li.append(span(file.name, {fontWeight: 'bold'}));\n",
              "    li.append(span(\n",
              "        `(${file.type || 'n/a'}) - ${file.size} bytes, ` +\n",
              "        `last modified: ${\n",
              "            file.lastModifiedDate ? file.lastModifiedDate.toLocaleDateString() :\n",
              "                                    'n/a'} - `));\n",
              "    const percent = span('0% done');\n",
              "    li.appendChild(percent);\n",
              "\n",
              "    outputElement.appendChild(li);\n",
              "\n",
              "    const fileDataPromise = new Promise((resolve) => {\n",
              "      const reader = new FileReader();\n",
              "      reader.onload = (e) => {\n",
              "        resolve(e.target.result);\n",
              "      };\n",
              "      reader.readAsArrayBuffer(file);\n",
              "    });\n",
              "    // Wait for the data to be ready.\n",
              "    let fileData = yield {\n",
              "      promise: fileDataPromise,\n",
              "      response: {\n",
              "        action: 'continue',\n",
              "      }\n",
              "    };\n",
              "\n",
              "    // Use a chunked sending to avoid message size limits. See b/62115660.\n",
              "    let position = 0;\n",
              "    do {\n",
              "      const length = Math.min(fileData.byteLength - position, MAX_PAYLOAD_SIZE);\n",
              "      const chunk = new Uint8Array(fileData, position, length);\n",
              "      position += length;\n",
              "\n",
              "      const base64 = btoa(String.fromCharCode.apply(null, chunk));\n",
              "      yield {\n",
              "        response: {\n",
              "          action: 'append',\n",
              "          file: file.name,\n",
              "          data: base64,\n",
              "        },\n",
              "      };\n",
              "\n",
              "      let percentDone = fileData.byteLength === 0 ?\n",
              "          100 :\n",
              "          Math.round((position / fileData.byteLength) * 100);\n",
              "      percent.textContent = `${percentDone}% done`;\n",
              "\n",
              "    } while (position < fileData.byteLength);\n",
              "  }\n",
              "\n",
              "  // All done.\n",
              "  yield {\n",
              "    response: {\n",
              "      action: 'complete',\n",
              "    }\n",
              "  };\n",
              "}\n",
              "\n",
              "scope.google = scope.google || {};\n",
              "scope.google.colab = scope.google.colab || {};\n",
              "scope.google.colab._files = {\n",
              "  _uploadFiles,\n",
              "  _uploadFilesContinue,\n",
              "};\n",
              "})(self);\n",
              "</script> "
            ]
          },
          "metadata": {}
        },
        {
          "output_type": "stream",
          "name": "stdout",
          "text": [
            "Saving kaggle.json to kaggle.json\n"
          ]
        },
        {
          "output_type": "execute_result",
          "data": {
            "text/plain": [
              "{'kaggle.json': b'{\"username\":\"ahmadzakkifa\",\"key\":\"578420443fd5b9b066d38168eb595470\"}'}"
            ]
          },
          "metadata": {},
          "execution_count": 2
        }
      ]
    },
    {
      "cell_type": "markdown",
      "source": [
        "**Membuat direktori untuk kaggle**"
      ],
      "metadata": {
        "id": "k5SD-VEyL0Sx"
      }
    },
    {
      "cell_type": "code",
      "source": [
        "! mkdir ~/.kaggle\n",
        "! cp kaggle.json ~/.kaggle/ #lokasi token yang diupload\n",
        "!chmod 600 ~/.kaggle/kaggle.json"
      ],
      "metadata": {
        "id": "00Q0omojLhOV"
      },
      "execution_count": null,
      "outputs": []
    },
    {
      "cell_type": "code",
      "source": [
        "! kaggle datasets list #mengecek apakah dataset kaggle dapat diakses"
      ],
      "metadata": {
        "colab": {
          "base_uri": "https://localhost:8080/"
        },
        "id": "TftOJWRiMJlF",
        "outputId": "38be2235-2f57-433d-de25-09bbaaf03c6d"
      },
      "execution_count": null,
      "outputs": [
        {
          "output_type": "stream",
          "name": "stdout",
          "text": [
            "Warning: Looks like you're using an outdated API Version, please consider updating (server 1.6.7 / client 1.5.16)\n",
            "ref                                                                     title                                               size  lastUpdated          downloadCount  voteCount  usabilityRating  \n",
            "----------------------------------------------------------------------  -------------------------------------------------  -----  -------------------  -------------  ---------  ---------------  \n",
            "sudarshan24byte/online-food-dataset                                     Online Food Dataset                                  3KB  2024-03-02 18:50:30          14874        306  0.9411765        \n",
            "kanchana1990/world-air-quality-data-2024-updated                        World Air Quality Data 2024 (Updated)                2MB  2024-03-25 15:10:07           1467         40  1.0              \n",
            "sukhmandeepsinghbrar/car-price-prediction-dataset                       Car Price Prediction Dataset                       141KB  2024-03-28 08:27:39            641         25  1.0              \n",
            "prishasawhney/imdb-dataset-top-2000-movies                              IMDB Dataset (Top 2000 movies)                      75KB  2024-03-27 18:51:36            623         22  1.0              \n",
            "syedanwarafridi/vehicle-sales-data                                      Vehicle Sales Data                                  19MB  2024-02-21 20:16:17          22441        370  1.0              \n",
            "bhavikjikadara/student-study-performance                                Student Study Performance                            9KB  2024-03-07 06:14:09           7682        112  1.0              \n",
            "lovishbansal123/sales-of-a-supermarket                                  Sales of a Supermarket                              36KB  2024-03-26 12:38:06           1491         30  1.0              \n",
            "sukhmandeepsinghbrar/biggest-companies-by-market-cap-and-their-revenue  Biggest Companies by Market Cap and Their Revenue    8KB  2024-03-27 10:18:06            540         25  1.0              \n",
            "sahirmaharajj/fuel-economy                                              Vehicle Fuel Economy                                 1MB  2024-03-20 18:27:18           1383         34  1.0              \n",
            "sukhmandeepsinghbrar/total-worldwide-passenger-cars-sales               Total Worldwide Passenger Cars Sales                 8KB  2024-03-25 16:32:42            829         29  1.0              \n",
            "sahirmaharajj/electric-vehicle-population                               Full Electric Vehicle Dataset 2024                   6MB  2024-03-28 20:41:24            364         24  1.0              \n",
            "nbroad/gemma-rewrite-nbroad                                             gemma-rewrite-nbroad                                 8MB  2024-03-03 04:52:39           1121         84  1.0              \n",
            "nagajyothidakka/covid-19-global-dataset                                 COVID-19 GLOBAL-Dataset                             10KB  2024-03-09 16:54:05           1353         37  0.9411765        \n",
            "kanchana1990/bacteria-dataset                                           Bacteria Dataset                                     4KB  2024-03-27 09:19:48            388         22  1.0              \n",
            "arnavvvvv/spotify-music                                                 Top Spotify Songs                                   47KB  2024-03-06 05:20:29           7264         94  1.0              \n",
            "bhavikjikadara/mental-health-dataset                                    Mental Health Dataset                                2MB  2024-03-18 06:05:16           2139         43  1.0              \n",
            "abhinavshaw09/road-accidents-data                                       Road Accidents Data                                823KB  2024-03-27 05:13:24            597         28  1.0              \n",
            "shruthiiiee/asia-2023-air-report-2000-cities                            Asia's 2023 Air Report (2000+ Cities)               62KB  2024-03-27 07:51:52            389         23  0.9411765        \n",
            "jasmeet0516/largest-companies-in-world                                  Largest Companies in World                          47KB  2024-03-26 15:54:47            704         27  1.0              \n",
            "tarunrm09/climate-change-indicators                                     Climate change Indicators                           34KB  2024-02-22 08:53:54          10490        189  1.0              \n"
          ]
        }
      ]
    },
    {
      "cell_type": "markdown",
      "source": [
        "**Mengunduh dataset yang diperlukan**"
      ],
      "metadata": {
        "id": "3-5EMZ4xMPXY"
      }
    },
    {
      "cell_type": "code",
      "source": [
        "#untuk cat & dog\n",
        "!kaggle datasets download -d samuelcortinhas/cats-and-dogs-image-classification\n",
        "\n",
        "#untuk rabbit\n",
        "!kaggle datasets download -d muniryadi/cat-vs-rabbit"
      ],
      "metadata": {
        "colab": {
          "base_uri": "https://localhost:8080/"
        },
        "id": "uCyzMBzhMYXc",
        "outputId": "5deebb85-522e-46d9-a428-ac77b4cb1fbd"
      },
      "execution_count": null,
      "outputs": [
        {
          "output_type": "stream",
          "name": "stdout",
          "text": [
            "Downloading cats-and-dogs-image-classification.zip to /content\n",
            " 88% 57.0M/64.4M [00:00<00:00, 112MB/s] \n",
            "100% 64.4M/64.4M [00:00<00:00, 106MB/s]\n",
            "Downloading cat-vs-rabbit.zip to /content\n",
            " 86% 57.0M/65.9M [00:00<00:00, 133MB/s]\n",
            "100% 65.9M/65.9M [00:00<00:00, 139MB/s]\n"
          ]
        }
      ]
    },
    {
      "cell_type": "markdown",
      "source": [
        "**Melakukan ekstraksi file yang telah diunduh**"
      ],
      "metadata": {
        "id": "l3chszXnMPZC"
      }
    },
    {
      "cell_type": "code",
      "source": [
        "import zipfile\n",
        "\n",
        "file_1 = '/content/cat-vs-rabbit.zip'\n",
        "file_2 = '/content/cats-and-dogs-image-classification.zip'\n",
        "\n",
        "zip_ref = zipfile.ZipFile(file_1, 'r')\n",
        "zip_ref.extractall('/content')\n",
        "zip_ref = zipfile.ZipFile(file_2, 'r')\n",
        "zip_ref.extractall('/content')\n",
        "\n",
        "zip_ref.close"
      ],
      "metadata": {
        "colab": {
          "base_uri": "https://localhost:8080/",
          "height": 139
        },
        "id": "mbE8AXFjMOy_",
        "outputId": "0b772244-ed0e-4884-96af-9b47c8dc711c"
      },
      "execution_count": null,
      "outputs": [
        {
          "output_type": "execute_result",
          "data": {
            "text/plain": [
              "<bound method ZipFile.close of <zipfile.ZipFile filename='/content/cats-and-dogs-image-classification.zip' mode='r'>>"
            ],
            "text/html": [
              "<div style=\"max-width:800px; border: 1px solid var(--colab-border-color);\"><style>\n",
              "      pre.function-repr-contents {\n",
              "        overflow-x: auto;\n",
              "        padding: 8px 12px;\n",
              "        max-height: 500px;\n",
              "      }\n",
              "\n",
              "      pre.function-repr-contents.function-repr-contents-collapsed {\n",
              "        cursor: pointer;\n",
              "        max-height: 100px;\n",
              "      }\n",
              "    </style>\n",
              "    <pre style=\"white-space: initial; background:\n",
              "         var(--colab-secondary-surface-color); padding: 8px 12px;\n",
              "         border-bottom: 1px solid var(--colab-border-color);\"><b>zipfile.ZipFile.close</b><br/>def close()</pre><pre class=\"function-repr-contents function-repr-contents-collapsed\" style=\"\"><a class=\"filepath\" style=\"display:none\" href=\"#\">/usr/lib/python3.10/zipfile.py</a>Close the file, and for mode &#x27;w&#x27;, &#x27;x&#x27; and &#x27;a&#x27; write the ending\n",
              "records.</pre>\n",
              "      <script>\n",
              "      if (google.colab.kernel.accessAllowed && google.colab.files && google.colab.files.view) {\n",
              "        for (const element of document.querySelectorAll('.filepath')) {\n",
              "          element.style.display = 'block'\n",
              "          element.onclick = (event) => {\n",
              "            event.preventDefault();\n",
              "            event.stopPropagation();\n",
              "            google.colab.files.view(element.textContent, 1823);\n",
              "          };\n",
              "        }\n",
              "      }\n",
              "      for (const element of document.querySelectorAll('.function-repr-contents')) {\n",
              "        element.onclick = (event) => {\n",
              "          event.preventDefault();\n",
              "          event.stopPropagation();\n",
              "          element.classList.toggle('function-repr-contents-collapsed');\n",
              "        };\n",
              "      }\n",
              "      </script>\n",
              "      </div>"
            ]
          },
          "metadata": {},
          "execution_count": 6
        }
      ]
    },
    {
      "cell_type": "code",
      "source": [
        "#Membuat folder baru\n",
        "import os\n",
        "\n",
        "os.mkdir('/content/uji_dir')\n",
        "os.mkdir('/content/uji_dir/cat')\n",
        "os.mkdir('/content/uji_dir/dog')\n",
        "os.mkdir('/content/uji_dir/rabbit')"
      ],
      "metadata": {
        "id": "cK4N2YEPPktb"
      },
      "execution_count": null,
      "outputs": []
    },
    {
      "cell_type": "code",
      "source": [
        "#Mengcopy file dari masing-masing file train\n",
        "\n",
        "!cp /content/train/cats/*.jpg /content/uji_dir/cat\n",
        "!cp /content/train/dogs/*.jpg /content/uji_dir/dog\n",
        "!cp /content/train-cat-rabbit/rabbit/*.jpg /content/uji_dir/rabbit"
      ],
      "metadata": {
        "id": "dKVfHQ87QJ5_"
      },
      "execution_count": null,
      "outputs": []
    },
    {
      "cell_type": "markdown",
      "source": [
        "**Import Library Eksplorasi Gambar**"
      ],
      "metadata": {
        "id": "tnhkYqo9milq"
      }
    },
    {
      "cell_type": "code",
      "source": [
        "import os\n",
        "import cv2\n",
        "import imghdr\n",
        "import pandas as pd\n",
        "import numpy as np\n",
        "import matplotlib.pyplot as plt\n",
        "import fnmatch"
      ],
      "metadata": {
        "id": "0YYyOR4vZmLt"
      },
      "execution_count": null,
      "outputs": []
    },
    {
      "cell_type": "code",
      "source": [
        "def counting_dir(directory) :\n",
        "  size_of_dir =[]\n",
        "  for image_class in os.listdir(directory):\n",
        "    image_path1 = os.path.join(directory, image_class)\n",
        "    print(image_path1)\n",
        "    count = len(fnmatch.filter(os.listdir(image_path1), '*.*'))\n",
        "    size_of_dir.append(count)\n",
        "    print(size_of_dir)"
      ],
      "metadata": {
        "id": "wBpRlXIOenT6"
      },
      "execution_count": null,
      "outputs": []
    },
    {
      "cell_type": "code",
      "source": [
        "counting_dir('/content/uji_dir')"
      ],
      "metadata": {
        "colab": {
          "base_uri": "https://localhost:8080/"
        },
        "id": "mZvi0g4jesV-",
        "outputId": "a4879e62-adcc-42e8-d036-c1b78bd5d15d"
      },
      "execution_count": null,
      "outputs": [
        {
          "output_type": "stream",
          "name": "stdout",
          "text": [
            "/content/uji_dir/rabbit\n",
            "[800]\n",
            "/content/uji_dir/cat\n",
            "[800, 279]\n",
            "/content/uji_dir/dog\n",
            "[800, 279, 278]\n"
          ]
        }
      ]
    },
    {
      "cell_type": "markdown",
      "source": [
        "**Memilih 100 File yang diperlukan**"
      ],
      "metadata": {
        "id": "6rNYd0B2e8Qv"
      }
    },
    {
      "cell_type": "markdown",
      "source": [
        "Pembagian File dilakukan menggunakan splitfolder dengan fungsi utama untuk membagi file train dan file test. Namun juga dapat digunakan untuk membagi folder dan filenya dengan jumlah yang spesifik"
      ],
      "metadata": {
        "id": "DqDsAK5fmvZ5"
      }
    },
    {
      "cell_type": "code",
      "source": [
        "!pip install split_folders"
      ],
      "metadata": {
        "colab": {
          "base_uri": "https://localhost:8080/"
        },
        "id": "UgK4-Z8ofFti",
        "outputId": "50e8cef3-0cfd-42ce-af45-27197fb6f1d3"
      },
      "execution_count": null,
      "outputs": [
        {
          "output_type": "stream",
          "name": "stdout",
          "text": [
            "Collecting split_folders\n",
            "  Downloading split_folders-0.5.1-py3-none-any.whl (8.4 kB)\n",
            "Installing collected packages: split_folders\n",
            "Successfully installed split_folders-0.5.1\n"
          ]
        }
      ]
    },
    {
      "cell_type": "code",
      "source": [
        "cat_dog ='/content/train'\n",
        "rabbit = '/content/train-cat-rabbit'"
      ],
      "metadata": {
        "id": "8PXamsGmfahb"
      },
      "execution_count": null,
      "outputs": []
    },
    {
      "cell_type": "code",
      "source": [
        "!mkdir main_dir"
      ],
      "metadata": {
        "id": "X6CANdsvn_Fq"
      },
      "execution_count": null,
      "outputs": []
    },
    {
      "cell_type": "code",
      "source": [
        "import splitfolders #Import library splitfolder\n",
        "\n",
        " #memilih basis direktori yaitu rps-cv-images dimana dalam folder ini terdapat 3 folder saja yang dibutuhkan yaitu rock, paper, dan scissor\n",
        "splitfolders.ratio(cat_dog, output='/content/main_dir', seed= 1337, ratio=((100/270), (170/270))) #rasio pembagian train dan validation disesuaikan dengan perintah yaitu 6/4\n",
        "splitfolders.ratio(rabbit, output='/content/main_dir', seed= 1337, ratio=((103/800), (697/800)))"
      ],
      "metadata": {
        "colab": {
          "base_uri": "https://localhost:8080/"
        },
        "id": "bO5hAmyfnLwI",
        "outputId": "593078a0-4e1c-440e-e89b-6eb905fcfc8d"
      },
      "execution_count": null,
      "outputs": [
        {
          "output_type": "stream",
          "name": "stderr",
          "text": [
            "Copying files: 557 files [00:00, 1460.53 files/s]\n",
            "Copying files: 1600 files [00:00, 2918.76 files/s]\n"
          ]
        }
      ]
    },
    {
      "cell_type": "code",
      "source": [
        "#Removing unused directory\n",
        "!rm /content/main_dir/train/cat/*.jpg\n",
        "!rmdir /content/main_dir/train/cat"
      ],
      "metadata": {
        "id": "dAiNstHroiZI"
      },
      "execution_count": null,
      "outputs": []
    },
    {
      "cell_type": "markdown",
      "source": [
        "Melihat hasil dan jumlah pembagian file"
      ],
      "metadata": {
        "id": "XoXr7riPnXWR"
      }
    },
    {
      "cell_type": "code",
      "source": [
        "counting_dir('/content/main_dir/train')"
      ],
      "metadata": {
        "colab": {
          "base_uri": "https://localhost:8080/"
        },
        "id": "KCurq1Igpy00",
        "outputId": "8de67023-b08a-4a64-a223-2e40d093d579"
      },
      "execution_count": null,
      "outputs": [
        {
          "output_type": "stream",
          "name": "stdout",
          "text": [
            "/content/main_dir/train/dogs\n",
            "[102]\n",
            "/content/main_dir/train/rabbit\n",
            "[102, 103]\n",
            "/content/main_dir/train/cats\n",
            "[102, 103, 103]\n"
          ]
        }
      ]
    },
    {
      "cell_type": "markdown",
      "source": [
        "# **Explorasi Data**"
      ],
      "metadata": {
        "id": "m5LNoIz827Dx"
      }
    },
    {
      "cell_type": "markdown",
      "source": [
        "Selanjutnya kita akan melihat informasi file yaitu lebar, tinggi, dan warna yang digunakan"
      ],
      "metadata": {
        "id": "snbA0phLnVUn"
      }
    },
    {
      "cell_type": "code",
      "source": [
        "#Fungsi digunakan untuk mengakses file directory dan informasi data menggunakan cv2.mread\n",
        "list_of_image_data =[]\n",
        "def data_information(directory) :\n",
        "  for image_class in os.listdir(directory) :\n",
        "    for image in os.listdir(os.path.join(directory, image_class)) :\n",
        "      path_image = os.path.join(directory, image_class, image)\n",
        "      img = cv2.imread(path_image)\n",
        "      list_of_image_data.append(img.shape)\n"
      ],
      "metadata": {
        "id": "D7lteILK3AbT"
      },
      "execution_count": null,
      "outputs": []
    },
    {
      "cell_type": "code",
      "source": [
        "data_information('/content/main_dir/train')"
      ],
      "metadata": {
        "id": "wW7zogWV3pci"
      },
      "execution_count": null,
      "outputs": []
    },
    {
      "cell_type": "code",
      "source": [
        "#Membuat informasi menjadi dataframe\n",
        "df = pd.DataFrame(list_of_image_data, columns=['tinggi_pixel', 'lebar_pixel', 'RGB'])\n",
        "df.describe()"
      ],
      "metadata": {
        "colab": {
          "base_uri": "https://localhost:8080/",
          "height": 300
        },
        "id": "bFO5MyHM4Ri2",
        "outputId": "53c0869a-9249-4bb0-935b-46542fc53bfe"
      },
      "execution_count": null,
      "outputs": [
        {
          "output_type": "execute_result",
          "data": {
            "text/plain": [
              "       tinggi_pixel  lebar_pixel    RGB\n",
              "count    308.000000   308.000000  308.0\n",
              "mean     547.097403   745.178571    3.0\n",
              "std      518.545369   693.421623    0.0\n",
              "min      133.000000   170.000000    3.0\n",
              "25%      300.000000   300.000000    3.0\n",
              "50%      300.000000   318.000000    3.0\n",
              "75%      637.250000  1024.000000    3.0\n",
              "max     4096.000000  4169.000000    3.0"
            ],
            "text/html": [
              "\n",
              "  <div id=\"df-922ec2ea-f009-434f-9f29-b7305f11a905\" class=\"colab-df-container\">\n",
              "    <div>\n",
              "<style scoped>\n",
              "    .dataframe tbody tr th:only-of-type {\n",
              "        vertical-align: middle;\n",
              "    }\n",
              "\n",
              "    .dataframe tbody tr th {\n",
              "        vertical-align: top;\n",
              "    }\n",
              "\n",
              "    .dataframe thead th {\n",
              "        text-align: right;\n",
              "    }\n",
              "</style>\n",
              "<table border=\"1\" class=\"dataframe\">\n",
              "  <thead>\n",
              "    <tr style=\"text-align: right;\">\n",
              "      <th></th>\n",
              "      <th>tinggi_pixel</th>\n",
              "      <th>lebar_pixel</th>\n",
              "      <th>RGB</th>\n",
              "    </tr>\n",
              "  </thead>\n",
              "  <tbody>\n",
              "    <tr>\n",
              "      <th>count</th>\n",
              "      <td>308.000000</td>\n",
              "      <td>308.000000</td>\n",
              "      <td>308.0</td>\n",
              "    </tr>\n",
              "    <tr>\n",
              "      <th>mean</th>\n",
              "      <td>547.097403</td>\n",
              "      <td>745.178571</td>\n",
              "      <td>3.0</td>\n",
              "    </tr>\n",
              "    <tr>\n",
              "      <th>std</th>\n",
              "      <td>518.545369</td>\n",
              "      <td>693.421623</td>\n",
              "      <td>0.0</td>\n",
              "    </tr>\n",
              "    <tr>\n",
              "      <th>min</th>\n",
              "      <td>133.000000</td>\n",
              "      <td>170.000000</td>\n",
              "      <td>3.0</td>\n",
              "    </tr>\n",
              "    <tr>\n",
              "      <th>25%</th>\n",
              "      <td>300.000000</td>\n",
              "      <td>300.000000</td>\n",
              "      <td>3.0</td>\n",
              "    </tr>\n",
              "    <tr>\n",
              "      <th>50%</th>\n",
              "      <td>300.000000</td>\n",
              "      <td>318.000000</td>\n",
              "      <td>3.0</td>\n",
              "    </tr>\n",
              "    <tr>\n",
              "      <th>75%</th>\n",
              "      <td>637.250000</td>\n",
              "      <td>1024.000000</td>\n",
              "      <td>3.0</td>\n",
              "    </tr>\n",
              "    <tr>\n",
              "      <th>max</th>\n",
              "      <td>4096.000000</td>\n",
              "      <td>4169.000000</td>\n",
              "      <td>3.0</td>\n",
              "    </tr>\n",
              "  </tbody>\n",
              "</table>\n",
              "</div>\n",
              "    <div class=\"colab-df-buttons\">\n",
              "\n",
              "  <div class=\"colab-df-container\">\n",
              "    <button class=\"colab-df-convert\" onclick=\"convertToInteractive('df-922ec2ea-f009-434f-9f29-b7305f11a905')\"\n",
              "            title=\"Convert this dataframe to an interactive table.\"\n",
              "            style=\"display:none;\">\n",
              "\n",
              "  <svg xmlns=\"http://www.w3.org/2000/svg\" height=\"24px\" viewBox=\"0 -960 960 960\">\n",
              "    <path d=\"M120-120v-720h720v720H120Zm60-500h600v-160H180v160Zm220 220h160v-160H400v160Zm0 220h160v-160H400v160ZM180-400h160v-160H180v160Zm440 0h160v-160H620v160ZM180-180h160v-160H180v160Zm440 0h160v-160H620v160Z\"/>\n",
              "  </svg>\n",
              "    </button>\n",
              "\n",
              "  <style>\n",
              "    .colab-df-container {\n",
              "      display:flex;\n",
              "      gap: 12px;\n",
              "    }\n",
              "\n",
              "    .colab-df-convert {\n",
              "      background-color: #E8F0FE;\n",
              "      border: none;\n",
              "      border-radius: 50%;\n",
              "      cursor: pointer;\n",
              "      display: none;\n",
              "      fill: #1967D2;\n",
              "      height: 32px;\n",
              "      padding: 0 0 0 0;\n",
              "      width: 32px;\n",
              "    }\n",
              "\n",
              "    .colab-df-convert:hover {\n",
              "      background-color: #E2EBFA;\n",
              "      box-shadow: 0px 1px 2px rgba(60, 64, 67, 0.3), 0px 1px 3px 1px rgba(60, 64, 67, 0.15);\n",
              "      fill: #174EA6;\n",
              "    }\n",
              "\n",
              "    .colab-df-buttons div {\n",
              "      margin-bottom: 4px;\n",
              "    }\n",
              "\n",
              "    [theme=dark] .colab-df-convert {\n",
              "      background-color: #3B4455;\n",
              "      fill: #D2E3FC;\n",
              "    }\n",
              "\n",
              "    [theme=dark] .colab-df-convert:hover {\n",
              "      background-color: #434B5C;\n",
              "      box-shadow: 0px 1px 3px 1px rgba(0, 0, 0, 0.15);\n",
              "      filter: drop-shadow(0px 1px 2px rgba(0, 0, 0, 0.3));\n",
              "      fill: #FFFFFF;\n",
              "    }\n",
              "  </style>\n",
              "\n",
              "    <script>\n",
              "      const buttonEl =\n",
              "        document.querySelector('#df-922ec2ea-f009-434f-9f29-b7305f11a905 button.colab-df-convert');\n",
              "      buttonEl.style.display =\n",
              "        google.colab.kernel.accessAllowed ? 'block' : 'none';\n",
              "\n",
              "      async function convertToInteractive(key) {\n",
              "        const element = document.querySelector('#df-922ec2ea-f009-434f-9f29-b7305f11a905');\n",
              "        const dataTable =\n",
              "          await google.colab.kernel.invokeFunction('convertToInteractive',\n",
              "                                                    [key], {});\n",
              "        if (!dataTable) return;\n",
              "\n",
              "        const docLinkHtml = 'Like what you see? Visit the ' +\n",
              "          '<a target=\"_blank\" href=https://colab.research.google.com/notebooks/data_table.ipynb>data table notebook</a>'\n",
              "          + ' to learn more about interactive tables.';\n",
              "        element.innerHTML = '';\n",
              "        dataTable['output_type'] = 'display_data';\n",
              "        await google.colab.output.renderOutput(dataTable, element);\n",
              "        const docLink = document.createElement('div');\n",
              "        docLink.innerHTML = docLinkHtml;\n",
              "        element.appendChild(docLink);\n",
              "      }\n",
              "    </script>\n",
              "  </div>\n",
              "\n",
              "\n",
              "<div id=\"df-c3f2f7f7-2cbe-4c2f-93b6-c34696ff15b3\">\n",
              "  <button class=\"colab-df-quickchart\" onclick=\"quickchart('df-c3f2f7f7-2cbe-4c2f-93b6-c34696ff15b3')\"\n",
              "            title=\"Suggest charts\"\n",
              "            style=\"display:none;\">\n",
              "\n",
              "<svg xmlns=\"http://www.w3.org/2000/svg\" height=\"24px\"viewBox=\"0 0 24 24\"\n",
              "     width=\"24px\">\n",
              "    <g>\n",
              "        <path d=\"M19 3H5c-1.1 0-2 .9-2 2v14c0 1.1.9 2 2 2h14c1.1 0 2-.9 2-2V5c0-1.1-.9-2-2-2zM9 17H7v-7h2v7zm4 0h-2V7h2v10zm4 0h-2v-4h2v4z\"/>\n",
              "    </g>\n",
              "</svg>\n",
              "  </button>\n",
              "\n",
              "<style>\n",
              "  .colab-df-quickchart {\n",
              "      --bg-color: #E8F0FE;\n",
              "      --fill-color: #1967D2;\n",
              "      --hover-bg-color: #E2EBFA;\n",
              "      --hover-fill-color: #174EA6;\n",
              "      --disabled-fill-color: #AAA;\n",
              "      --disabled-bg-color: #DDD;\n",
              "  }\n",
              "\n",
              "  [theme=dark] .colab-df-quickchart {\n",
              "      --bg-color: #3B4455;\n",
              "      --fill-color: #D2E3FC;\n",
              "      --hover-bg-color: #434B5C;\n",
              "      --hover-fill-color: #FFFFFF;\n",
              "      --disabled-bg-color: #3B4455;\n",
              "      --disabled-fill-color: #666;\n",
              "  }\n",
              "\n",
              "  .colab-df-quickchart {\n",
              "    background-color: var(--bg-color);\n",
              "    border: none;\n",
              "    border-radius: 50%;\n",
              "    cursor: pointer;\n",
              "    display: none;\n",
              "    fill: var(--fill-color);\n",
              "    height: 32px;\n",
              "    padding: 0;\n",
              "    width: 32px;\n",
              "  }\n",
              "\n",
              "  .colab-df-quickchart:hover {\n",
              "    background-color: var(--hover-bg-color);\n",
              "    box-shadow: 0 1px 2px rgba(60, 64, 67, 0.3), 0 1px 3px 1px rgba(60, 64, 67, 0.15);\n",
              "    fill: var(--button-hover-fill-color);\n",
              "  }\n",
              "\n",
              "  .colab-df-quickchart-complete:disabled,\n",
              "  .colab-df-quickchart-complete:disabled:hover {\n",
              "    background-color: var(--disabled-bg-color);\n",
              "    fill: var(--disabled-fill-color);\n",
              "    box-shadow: none;\n",
              "  }\n",
              "\n",
              "  .colab-df-spinner {\n",
              "    border: 2px solid var(--fill-color);\n",
              "    border-color: transparent;\n",
              "    border-bottom-color: var(--fill-color);\n",
              "    animation:\n",
              "      spin 1s steps(1) infinite;\n",
              "  }\n",
              "\n",
              "  @keyframes spin {\n",
              "    0% {\n",
              "      border-color: transparent;\n",
              "      border-bottom-color: var(--fill-color);\n",
              "      border-left-color: var(--fill-color);\n",
              "    }\n",
              "    20% {\n",
              "      border-color: transparent;\n",
              "      border-left-color: var(--fill-color);\n",
              "      border-top-color: var(--fill-color);\n",
              "    }\n",
              "    30% {\n",
              "      border-color: transparent;\n",
              "      border-left-color: var(--fill-color);\n",
              "      border-top-color: var(--fill-color);\n",
              "      border-right-color: var(--fill-color);\n",
              "    }\n",
              "    40% {\n",
              "      border-color: transparent;\n",
              "      border-right-color: var(--fill-color);\n",
              "      border-top-color: var(--fill-color);\n",
              "    }\n",
              "    60% {\n",
              "      border-color: transparent;\n",
              "      border-right-color: var(--fill-color);\n",
              "    }\n",
              "    80% {\n",
              "      border-color: transparent;\n",
              "      border-right-color: var(--fill-color);\n",
              "      border-bottom-color: var(--fill-color);\n",
              "    }\n",
              "    90% {\n",
              "      border-color: transparent;\n",
              "      border-bottom-color: var(--fill-color);\n",
              "    }\n",
              "  }\n",
              "</style>\n",
              "\n",
              "  <script>\n",
              "    async function quickchart(key) {\n",
              "      const quickchartButtonEl =\n",
              "        document.querySelector('#' + key + ' button');\n",
              "      quickchartButtonEl.disabled = true;  // To prevent multiple clicks.\n",
              "      quickchartButtonEl.classList.add('colab-df-spinner');\n",
              "      try {\n",
              "        const charts = await google.colab.kernel.invokeFunction(\n",
              "            'suggestCharts', [key], {});\n",
              "      } catch (error) {\n",
              "        console.error('Error during call to suggestCharts:', error);\n",
              "      }\n",
              "      quickchartButtonEl.classList.remove('colab-df-spinner');\n",
              "      quickchartButtonEl.classList.add('colab-df-quickchart-complete');\n",
              "    }\n",
              "    (() => {\n",
              "      let quickchartButtonEl =\n",
              "        document.querySelector('#df-c3f2f7f7-2cbe-4c2f-93b6-c34696ff15b3 button');\n",
              "      quickchartButtonEl.style.display =\n",
              "        google.colab.kernel.accessAllowed ? 'block' : 'none';\n",
              "    })();\n",
              "  </script>\n",
              "</div>\n",
              "    </div>\n",
              "  </div>\n"
            ],
            "application/vnd.google.colaboratory.intrinsic+json": {
              "type": "dataframe",
              "summary": "{\n  \"name\": \"df\",\n  \"rows\": 8,\n  \"fields\": [\n    {\n      \"column\": \"tinggi_pixel\",\n      \"properties\": {\n        \"dtype\": \"number\",\n        \"std\": 1319.9591329783523,\n        \"min\": 133.0,\n        \"max\": 4096.0,\n        \"num_unique_values\": 7,\n        \"samples\": [\n          308.0,\n          547.0974025974026,\n          637.25\n        ],\n        \"semantic_type\": \"\",\n        \"description\": \"\"\n      }\n    },\n    {\n      \"column\": \"lebar_pixel\",\n      \"properties\": {\n        \"dtype\": \"number\",\n        \"std\": 1326.4169811251502,\n        \"min\": 170.0,\n        \"max\": 4169.0,\n        \"num_unique_values\": 8,\n        \"samples\": [\n          745.1785714285714,\n          318.0,\n          308.0\n        ],\n        \"semantic_type\": \"\",\n        \"description\": \"\"\n      }\n    },\n    {\n      \"column\": \"RGB\",\n      \"properties\": {\n        \"dtype\": \"number\",\n        \"std\": 107.9904096270987,\n        \"min\": 0.0,\n        \"max\": 308.0,\n        \"num_unique_values\": 3,\n        \"samples\": [\n          308.0,\n          3.0,\n          0.0\n        ],\n        \"semantic_type\": \"\",\n        \"description\": \"\"\n      }\n    }\n  ]\n}"
            }
          },
          "metadata": {},
          "execution_count": 20
        }
      ]
    },
    {
      "cell_type": "markdown",
      "source": [
        "Semua data memiliki format RGB dan memiliki tinggi dan lebar pixel yang bervariasi"
      ],
      "metadata": {
        "id": "SGEi-UVD4_e8"
      }
    },
    {
      "cell_type": "markdown",
      "source": [
        "# **Melakukan Preprocessing Data**"
      ],
      "metadata": {
        "id": "aZ85AtsB2yxd"
      }
    },
    {
      "cell_type": "code",
      "source": [
        "#Menginisiasi direktroy final\n",
        "final_directory ='/content/main_dir/train'"
      ],
      "metadata": {
        "id": "oKyAD1714-X6"
      },
      "execution_count": null,
      "outputs": []
    },
    {
      "cell_type": "markdown",
      "source": [
        "**Melakukan Augmentasi data menggunakan Image Datagenerator Dengan Validation Split 0.3**"
      ],
      "metadata": {
        "id": "D3rfxq6rolZ-"
      }
    },
    {
      "cell_type": "code",
      "source": [
        "from keras.preprocessing.image import ImageDataGenerator\n",
        "\n",
        "train_datagen = ImageDataGenerator(\n",
        "    rescale = 1./255,\n",
        "    horizontal_flip=True,\n",
        "    vertical_flip=True,\n",
        "    rotation_range=20,\n",
        "    zoom_range=0.2,\n",
        "    fill_mode='nearest',\n",
        "    validation_split = 0.3\n",
        ")"
      ],
      "metadata": {
        "id": "v-lQifU-22ZB"
      },
      "execution_count": null,
      "outputs": []
    },
    {
      "cell_type": "code",
      "source": [
        "batch_size = 32\n",
        "image_size = 224\n",
        "\n",
        "train_generator = train_datagen.flow_from_directory(\n",
        "    final_directory,\n",
        "    target_size=(image_size, image_size),\n",
        "    color_mode='rgb',\n",
        "    batch_size = batch_size,\n",
        "    class_mode='categorical',\n",
        "    subset = 'training'\n",
        ")\n",
        "\n",
        "validation_generator = train_datagen.flow_from_directory(\n",
        "    final_directory,\n",
        "    target_size=(image_size, image_size),\n",
        "    color_mode='rgb',\n",
        "    batch_size = batch_size,\n",
        "    shuffle = False,\n",
        "    class_mode='categorical',\n",
        "    subset = 'validation'\n",
        ")"
      ],
      "metadata": {
        "colab": {
          "base_uri": "https://localhost:8080/"
        },
        "id": "wLoUQbQ86opo",
        "outputId": "18ebcc49-b0d3-4edf-8e6b-f961d0a8e0e4"
      },
      "execution_count": null,
      "outputs": [
        {
          "output_type": "stream",
          "name": "stdout",
          "text": [
            "Found 218 images belonging to 3 classes.\n",
            "Found 90 images belonging to 3 classes.\n"
          ]
        }
      ]
    },
    {
      "cell_type": "markdown",
      "source": [
        "**Memperlihatkan Hasil Sample Augmentasi Data**"
      ],
      "metadata": {
        "id": "PiF1rjRso7fM"
      }
    },
    {
      "cell_type": "code",
      "source": [
        "import matplotlib.pyplot as plt\n",
        "\n",
        "labels = [k for k in train_generator.class_indices]\n",
        "gambar_sampel = train_generator.__next__()\n",
        "gambar = gambar_sampel[0]\n",
        "title = gambar_sampel[1]\n",
        "plt.figure(figsize=(20, 20))\n",
        "\n",
        "for i in range(5) :\n",
        "  plt.subplot(10, 10, i+1)\n",
        "  plt.subplots_adjust(hspace = 0.5, wspace=0.5)\n",
        "  plt.imshow(gambar[i])\n",
        "  plt.title(f'Class : {labels[np.argmax(title[i], axis =0)]}')\n",
        "  plt.axis('off')"
      ],
      "metadata": {
        "colab": {
          "base_uri": "https://localhost:8080/",
          "height": 165
        },
        "id": "t3D1sVgL8Kh3",
        "outputId": "655f8d24-f5ab-4859-a0f4-4415612c6ed4"
      },
      "execution_count": null,
      "outputs": [
        {
          "output_type": "display_data",
          "data": {
            "text/plain": [
              "<Figure size 2000x2000 with 5 Axes>"
            ],
            "image/png": "[encoded data removed]"
          },
          "metadata": {}
        }
      ]
    },
    {
      "cell_type": "markdown",
      "source": [
        "# **Membuat Model dengan Transver Learning**"
      ],
      "metadata": {
        "id": "TlGqnTuS96iX"
      }
    },
    {
      "cell_type": "markdown",
      "source": [
        "Dilakukan Import model ResNet152v2 dengan menambahkan layer flatten dan 512 hidden layer. Klasifikasi input merupakan klasifikasi tiga kelas sehingga pada layer terakhir menggunakan softmax activation."
      ],
      "metadata": {
        "id": "yQxY1j9TpGH4"
      }
    },
    {
      "cell_type": "code",
      "source": [
        "import tensorflow as tf\n",
        "from tensorflow.keras.layers import Input\n",
        "from tensorflow.keras.applications import ResNet50\n",
        "from tensorflow.keras.applications import ResNet152V2\n",
        "\n",
        "model = tf.keras.models.Sequential([\n",
        "    #Resnet Model\n",
        "    ResNet152V2(weights ='imagenet', include_top = False, input_tensor = Input(shape=(224, 224, 3))),\n",
        "    #Layer Flatten\n",
        "    tf.keras.layers.Flatten(),\n",
        "    #512 neuron hidden layer\n",
        "    tf.keras.layers.Dense(512, activation ='relu'),\n",
        "    tf.keras.layers.Dense(256, activation ='relu'),\n",
        "    tf.keras.layers.Dense(3, activation='softmax')\n",
        "])\n",
        "\n",
        "model.layers[0].trainable =False"
      ],
      "metadata": {
        "colab": {
          "base_uri": "https://localhost:8080/"
        },
        "id": "g-CR9Nt1-BHi",
        "outputId": "a5b1e783-71fa-42d0-88f2-b140e0dbda9f"
      },
      "execution_count": null,
      "outputs": [
        {
          "output_type": "stream",
          "name": "stdout",
          "text": [
            "Downloading data from https://storage.googleapis.com/tensorflow/keras-applications/resnet/resnet152v2_weights_tf_dim_ordering_tf_kernels_notop.h5\n",
            "234545216/234545216 [==============================] - 3s 0us/step\n"
          ]
        }
      ]
    },
    {
      "cell_type": "code",
      "source": [
        "model.summary() #Menampilkan informasi model"
      ],
      "metadata": {
        "colab": {
          "base_uri": "https://localhost:8080/"
        },
        "id": "fTCsJapTACCq",
        "outputId": "a135fad4-dd26-4a07-bc3a-6520e43fc321"
      },
      "execution_count": null,
      "outputs": [
        {
          "output_type": "stream",
          "name": "stdout",
          "text": [
            "Model: \"sequential\"\n",
            "_________________________________________________________________\n",
            " Layer (type)                Output Shape              Param #   \n",
            "=================================================================\n",
            " resnet152v2 (Functional)    (None, 7, 7, 2048)        58331648  \n",
            "                                                                 \n",
            " flatten (Flatten)           (None, 100352)            0         \n",
            "                                                                 \n",
            " dense (Dense)               (None, 512)               51380736  \n",
            "                                                                 \n",
            " dense_1 (Dense)             (None, 256)               131328    \n",
            "                                                                 \n",
            " dense_2 (Dense)             (None, 3)                 771       \n",
            "                                                                 \n",
            "=================================================================\n",
            "Total params: 109844483 (419.02 MB)\n",
            "Trainable params: 51512835 (196.51 MB)\n",
            "Non-trainable params: 58331648 (222.52 MB)\n",
            "_________________________________________________________________\n"
          ]
        }
      ]
    },
    {
      "cell_type": "markdown",
      "source": [
        "**Membuat Callbacks**"
      ],
      "metadata": {
        "id": "O4xluF-opfOJ"
      }
    },
    {
      "cell_type": "markdown",
      "source": [
        "Berbeda dengan callbacks pada project sebelumnya, Pada callbacks ini digunakan yaitu EarlyStopping (untuk menghentikan traning model apabila progress score tetap berjalan ditempat). Lalu untuk ModelCheckpoint berfungsi menyimpan model pada hasil traning terbaik. Pengaturan dilakukan dengan memonitor val_loss terbaik dari model"
      ],
      "metadata": {
        "id": "QfWdd9xBpiQI"
      }
    },
    {
      "cell_type": "code",
      "source": [
        "from keras.callbacks import EarlyStopping, ModelCheckpoint\n",
        "\n",
        "model_name = 'multiclassification_resnet.h5'\n",
        "checkpoint = ModelCheckpoint(\n",
        "    model_name,\n",
        "    monitor = 'val_loss',\n",
        "    mode = 'min',\n",
        "    save_best_only = True,\n",
        "    verbose = 2\n",
        ")\n",
        "\n",
        "earlystopping = EarlyStopping(\n",
        "    monitor='val_loss',\n",
        "    min_delta = 0,\n",
        "    patience = 30,\n",
        "    verbose =2,\n",
        "    restore_best_weights=True\n",
        ")"
      ],
      "metadata": {
        "id": "aYNwf8woBpW-"
      },
      "execution_count": null,
      "outputs": []
    },
    {
      "cell_type": "markdown",
      "source": [
        "**Melakukan Proses Compile Model**"
      ],
      "metadata": {
        "id": "J3TVn_ogqEye"
      }
    },
    {
      "cell_type": "code",
      "source": [
        "model.compile(optimizer=tf.optimizers.Adam(learning_rate= 0.001),\n",
        "              loss='categorical_crossentropy',\n",
        "              metrics = ['accuracy'])"
      ],
      "metadata": {
        "id": "J5bv5k5QA8C7"
      },
      "execution_count": null,
      "outputs": []
    },
    {
      "cell_type": "markdown",
      "source": [
        "# **Melakukan Pelatihan Model**"
      ],
      "metadata": {
        "id": "k5vzIbVIBFdP"
      }
    },
    {
      "cell_type": "code",
      "source": [
        "history = model.fit(train_generator,\n",
        "                    validation_data=validation_generator,\n",
        "                    epochs=1000,\n",
        "                    callbacks=[checkpoint, earlystopping],\n",
        "                    verbose=2)"
      ],
      "metadata": {
        "colab": {
          "base_uri": "https://localhost:8080/"
        },
        "id": "TDcxwyVHBKbI",
        "outputId": "7625163b-d110-461e-b48c-d4e2916d046a"
      },
      "execution_count": null,
      "outputs": [
        {
          "output_type": "stream",
          "name": "stdout",
          "text": [
            "Epoch 1/1000\n",
            "\n",
            "Epoch 1: val_loss improved from inf to 3.21976, saving model to multiclassification_resnet.h5\n"
          ]
        },
        {
          "output_type": "stream",
          "name": "stderr",
          "text": [
            "/usr/local/lib/python3.10/dist-packages/keras/src/engine/training.py:3103: UserWarning: You are saving your model as an HDF5 file via `model.save()`. This file format is considered legacy. We recommend using instead the native Keras format, e.g. `model.save('my_model.keras')`.\n",
            "  saving_api.save_model(\n"
          ]
        },
        {
          "output_type": "stream",
          "name": "stdout",
          "text": [
            "7/7 - 50s - loss: 17.4837 - accuracy: 0.5596 - val_loss: 3.2198 - val_accuracy: 0.8111 - 50s/epoch - 7s/step\n",
            "Epoch 2/1000\n",
            "\n",
            "Epoch 2: val_loss improved from 3.21976 to 1.45990, saving model to multiclassification_resnet.h5\n",
            "7/7 - 21s - loss: 2.3581 - accuracy: 0.8532 - val_loss: 1.4599 - val_accuracy: 0.8667 - 21s/epoch - 3s/step\n",
            "Epoch 3/1000\n",
            "\n",
            "Epoch 3: val_loss did not improve from 1.45990\n",
            "7/7 - 6s - loss: 1.8644 - accuracy: 0.9128 - val_loss: 5.7444 - val_accuracy: 0.7667 - 6s/epoch - 848ms/step\n",
            "Epoch 4/1000\n",
            "\n",
            "Epoch 4: val_loss did not improve from 1.45990\n",
            "7/7 - 6s - loss: 1.5446 - accuracy: 0.9220 - val_loss: 2.3208 - val_accuracy: 0.8333 - 6s/epoch - 841ms/step\n",
            "Epoch 5/1000\n",
            "\n",
            "Epoch 5: val_loss did not improve from 1.45990\n",
            "7/7 - 6s - loss: 1.8955 - accuracy: 0.9128 - val_loss: 4.6339 - val_accuracy: 0.8333 - 6s/epoch - 809ms/step\n",
            "Epoch 6/1000\n",
            "\n",
            "Epoch 6: val_loss did not improve from 1.45990\n",
            "7/7 - 7s - loss: 1.1375 - accuracy: 0.9495 - val_loss: 4.2958 - val_accuracy: 0.8333 - 7s/epoch - 1s/step\n",
            "Epoch 7/1000\n",
            "\n",
            "Epoch 7: val_loss did not improve from 1.45990\n",
            "7/7 - 6s - loss: 1.3996 - accuracy: 0.9220 - val_loss: 3.7443 - val_accuracy: 0.8556 - 6s/epoch - 820ms/step\n",
            "Epoch 8/1000\n",
            "\n",
            "Epoch 8: val_loss did not improve from 1.45990\n",
            "7/7 - 10s - loss: 1.1708 - accuracy: 0.9495 - val_loss: 3.9287 - val_accuracy: 0.8667 - 10s/epoch - 1s/step\n",
            "Epoch 9/1000\n",
            "\n",
            "Epoch 9: val_loss did not improve from 1.45990\n",
            "7/7 - 8s - loss: 0.7491 - accuracy: 0.9541 - val_loss: 4.2367 - val_accuracy: 0.8333 - 8s/epoch - 1s/step\n",
            "Epoch 10/1000\n",
            "\n",
            "Epoch 10: val_loss did not improve from 1.45990\n",
            "7/7 - 5s - loss: 1.0170 - accuracy: 0.9541 - val_loss: 5.0642 - val_accuracy: 0.7889 - 5s/epoch - 738ms/step\n",
            "Epoch 11/1000\n",
            "\n",
            "Epoch 11: val_loss did not improve from 1.45990\n",
            "7/7 - 5s - loss: 0.2934 - accuracy: 0.9771 - val_loss: 3.8752 - val_accuracy: 0.9000 - 5s/epoch - 755ms/step\n",
            "Epoch 12/1000\n",
            "\n",
            "Epoch 12: val_loss did not improve from 1.45990\n",
            "7/7 - 9s - loss: 1.0769 - accuracy: 0.9450 - val_loss: 4.1387 - val_accuracy: 0.8222 - 9s/epoch - 1s/step\n",
            "Epoch 13/1000\n",
            "\n",
            "Epoch 13: val_loss did not improve from 1.45990\n",
            "7/7 - 8s - loss: 0.3952 - accuracy: 0.9633 - val_loss: 4.1082 - val_accuracy: 0.8333 - 8s/epoch - 1s/step\n",
            "Epoch 14/1000\n",
            "\n",
            "Epoch 14: val_loss did not improve from 1.45990\n",
            "7/7 - 5s - loss: 0.6606 - accuracy: 0.9587 - val_loss: 9.1876 - val_accuracy: 0.7667 - 5s/epoch - 734ms/step\n",
            "Epoch 15/1000\n",
            "\n",
            "Epoch 15: val_loss did not improve from 1.45990\n",
            "7/7 - 6s - loss: 1.1762 - accuracy: 0.9404 - val_loss: 7.9715 - val_accuracy: 0.8556 - 6s/epoch - 838ms/step\n",
            "Epoch 16/1000\n",
            "\n",
            "Epoch 16: val_loss did not improve from 1.45990\n",
            "7/7 - 5s - loss: 1.6500 - accuracy: 0.9266 - val_loss: 7.0873 - val_accuracy: 0.8333 - 5s/epoch - 730ms/step\n",
            "Epoch 17/1000\n",
            "\n",
            "Epoch 17: val_loss did not improve from 1.45990\n",
            "7/7 - 6s - loss: 1.7928 - accuracy: 0.9495 - val_loss: 4.7316 - val_accuracy: 0.8778 - 6s/epoch - 839ms/step\n",
            "Epoch 18/1000\n",
            "\n",
            "Epoch 18: val_loss did not improve from 1.45990\n",
            "7/7 - 5s - loss: 0.7039 - accuracy: 0.9633 - val_loss: 7.8896 - val_accuracy: 0.8000 - 5s/epoch - 736ms/step\n",
            "Epoch 19/1000\n",
            "\n",
            "Epoch 19: val_loss did not improve from 1.45990\n",
            "7/7 - 9s - loss: 0.2428 - accuracy: 0.9862 - val_loss: 7.6459 - val_accuracy: 0.7333 - 9s/epoch - 1s/step\n",
            "Epoch 20/1000\n",
            "\n",
            "Epoch 20: val_loss did not improve from 1.45990\n",
            "7/7 - 8s - loss: 0.6029 - accuracy: 0.9679 - val_loss: 3.4871 - val_accuracy: 0.8667 - 8s/epoch - 1s/step\n",
            "Epoch 21/1000\n",
            "\n",
            "Epoch 21: val_loss did not improve from 1.45990\n",
            "7/7 - 8s - loss: 0.3764 - accuracy: 0.9817 - val_loss: 5.1562 - val_accuracy: 0.8778 - 8s/epoch - 1s/step\n",
            "Epoch 22/1000\n",
            "\n",
            "Epoch 22: val_loss did not improve from 1.45990\n",
            "7/7 - 10s - loss: 0.5062 - accuracy: 0.9817 - val_loss: 2.5482 - val_accuracy: 0.8778 - 10s/epoch - 1s/step\n",
            "Epoch 23/1000\n",
            "\n",
            "Epoch 23: val_loss improved from 1.45990 to 1.16839, saving model to multiclassification_resnet.h5\n",
            "7/7 - 10s - loss: 3.1715e-07 - accuracy: 1.0000 - val_loss: 1.1684 - val_accuracy: 0.9111 - 10s/epoch - 1s/step\n",
            "Epoch 24/1000\n",
            "\n",
            "Epoch 24: val_loss did not improve from 1.16839\n",
            "7/7 - 5s - loss: 0.3834 - accuracy: 0.9862 - val_loss: 3.0190 - val_accuracy: 0.8778 - 5s/epoch - 756ms/step\n",
            "Epoch 25/1000\n",
            "\n",
            "Epoch 25: val_loss did not improve from 1.16839\n",
            "7/7 - 6s - loss: 0.4654 - accuracy: 0.9679 - val_loss: 7.0514 - val_accuracy: 0.8111 - 6s/epoch - 831ms/step\n",
            "Epoch 26/1000\n",
            "\n",
            "Epoch 26: val_loss did not improve from 1.16839\n",
            "7/7 - 6s - loss: 0.1409 - accuracy: 0.9817 - val_loss: 4.5001 - val_accuracy: 0.8444 - 6s/epoch - 800ms/step\n",
            "Epoch 27/1000\n",
            "\n",
            "Epoch 27: val_loss did not improve from 1.16839\n",
            "7/7 - 9s - loss: 2.1227e-04 - accuracy: 1.0000 - val_loss: 3.1557 - val_accuracy: 0.8889 - 9s/epoch - 1s/step\n",
            "Epoch 28/1000\n",
            "\n",
            "Epoch 28: val_loss did not improve from 1.16839\n",
            "7/7 - 9s - loss: 0.1552 - accuracy: 0.9954 - val_loss: 2.9000 - val_accuracy: 0.8889 - 9s/epoch - 1s/step\n",
            "Epoch 29/1000\n",
            "\n",
            "Epoch 29: val_loss did not improve from 1.16839\n",
            "7/7 - 8s - loss: 0.0658 - accuracy: 0.9908 - val_loss: 3.7428 - val_accuracy: 0.8444 - 8s/epoch - 1s/step\n",
            "Epoch 30/1000\n",
            "\n",
            "Epoch 30: val_loss did not improve from 1.16839\n",
            "7/7 - 5s - loss: 0.2833 - accuracy: 0.9725 - val_loss: 4.4209 - val_accuracy: 0.8556 - 5s/epoch - 746ms/step\n",
            "Epoch 31/1000\n",
            "\n",
            "Epoch 31: val_loss did not improve from 1.16839\n",
            "7/7 - 6s - loss: 0.0895 - accuracy: 0.9908 - val_loss: 4.1341 - val_accuracy: 0.8667 - 6s/epoch - 835ms/step\n",
            "Epoch 32/1000\n",
            "\n",
            "Epoch 32: val_loss did not improve from 1.16839\n",
            "7/7 - 5s - loss: 0.1417 - accuracy: 0.9862 - val_loss: 3.8558 - val_accuracy: 0.8444 - 5s/epoch - 743ms/step\n",
            "Epoch 33/1000\n",
            "\n",
            "Epoch 33: val_loss did not improve from 1.16839\n",
            "7/7 - 6s - loss: 0.1424 - accuracy: 0.9908 - val_loss: 6.5078 - val_accuracy: 0.8222 - 6s/epoch - 896ms/step\n",
            "Epoch 34/1000\n",
            "\n",
            "Epoch 34: val_loss did not improve from 1.16839\n",
            "7/7 - 6s - loss: 0.6919 - accuracy: 0.9725 - val_loss: 4.2800 - val_accuracy: 0.8444 - 6s/epoch - 853ms/step\n",
            "Epoch 35/1000\n",
            "\n",
            "Epoch 35: val_loss did not improve from 1.16839\n",
            "7/7 - 6s - loss: 0.1572 - accuracy: 0.9817 - val_loss: 4.4359 - val_accuracy: 0.8444 - 6s/epoch - 882ms/step\n",
            "Epoch 36/1000\n",
            "\n",
            "Epoch 36: val_loss did not improve from 1.16839\n",
            "7/7 - 5s - loss: 0.1081 - accuracy: 0.9954 - val_loss: 3.0497 - val_accuracy: 0.8667 - 5s/epoch - 746ms/step\n",
            "Epoch 37/1000\n",
            "\n",
            "Epoch 37: val_loss did not improve from 1.16839\n",
            "7/7 - 6s - loss: 0.0155 - accuracy: 0.9908 - val_loss: 2.9689 - val_accuracy: 0.8667 - 6s/epoch - 873ms/step\n",
            "Epoch 38/1000\n",
            "\n",
            "Epoch 38: val_loss did not improve from 1.16839\n",
            "7/7 - 5s - loss: 0.0060 - accuracy: 0.9954 - val_loss: 2.8589 - val_accuracy: 0.8667 - 5s/epoch - 737ms/step\n",
            "Epoch 39/1000\n",
            "\n",
            "Epoch 39: val_loss did not improve from 1.16839\n",
            "7/7 - 5s - loss: 0.2360 - accuracy: 0.9771 - val_loss: 3.4617 - val_accuracy: 0.8778 - 5s/epoch - 722ms/step\n",
            "Epoch 40/1000\n",
            "\n",
            "Epoch 40: val_loss did not improve from 1.16839\n",
            "7/7 - 6s - loss: 1.2107e-04 - accuracy: 1.0000 - val_loss: 6.0676 - val_accuracy: 0.8111 - 6s/epoch - 842ms/step\n",
            "Epoch 41/1000\n",
            "\n",
            "Epoch 41: val_loss did not improve from 1.16839\n",
            "7/7 - 5s - loss: 0.1120 - accuracy: 0.9862 - val_loss: 3.7878 - val_accuracy: 0.8778 - 5s/epoch - 737ms/step\n",
            "Epoch 42/1000\n",
            "\n",
            "Epoch 42: val_loss did not improve from 1.16839\n",
            "7/7 - 5s - loss: 0.0393 - accuracy: 0.9954 - val_loss: 3.1109 - val_accuracy: 0.8667 - 5s/epoch - 776ms/step\n",
            "Epoch 43/1000\n",
            "\n",
            "Epoch 43: val_loss did not improve from 1.16839\n",
            "7/7 - 6s - loss: 0.2426 - accuracy: 0.9954 - val_loss: 4.0035 - val_accuracy: 0.8444 - 6s/epoch - 832ms/step\n",
            "Epoch 44/1000\n",
            "\n",
            "Epoch 44: val_loss did not improve from 1.16839\n",
            "7/7 - 5s - loss: 0.3637 - accuracy: 0.9725 - val_loss: 4.4136 - val_accuracy: 0.8778 - 5s/epoch - 749ms/step\n",
            "Epoch 45/1000\n",
            "\n",
            "Epoch 45: val_loss did not improve from 1.16839\n",
            "7/7 - 6s - loss: 0.1689 - accuracy: 0.9908 - val_loss: 5.3482 - val_accuracy: 0.8667 - 6s/epoch - 886ms/step\n",
            "Epoch 46/1000\n",
            "\n",
            "Epoch 46: val_loss did not improve from 1.16839\n",
            "7/7 - 6s - loss: 0.3177 - accuracy: 0.9771 - val_loss: 2.8439 - val_accuracy: 0.8889 - 6s/epoch - 849ms/step\n",
            "Epoch 47/1000\n",
            "\n",
            "Epoch 47: val_loss did not improve from 1.16839\n",
            "7/7 - 8s - loss: 0.1015 - accuracy: 0.9954 - val_loss: 2.7769 - val_accuracy: 0.8778 - 8s/epoch - 1s/step\n",
            "Epoch 48/1000\n",
            "\n",
            "Epoch 48: val_loss did not improve from 1.16839\n",
            "7/7 - 7s - loss: 0.0353 - accuracy: 0.9908 - val_loss: 3.9785 - val_accuracy: 0.8556 - 7s/epoch - 1s/step\n",
            "Epoch 49/1000\n",
            "\n",
            "Epoch 49: val_loss did not improve from 1.16839\n",
            "7/7 - 5s - loss: 0.1104 - accuracy: 0.9954 - val_loss: 3.9201 - val_accuracy: 0.8444 - 5s/epoch - 746ms/step\n",
            "Epoch 50/1000\n",
            "\n",
            "Epoch 50: val_loss did not improve from 1.16839\n",
            "7/7 - 6s - loss: 0.0201 - accuracy: 0.9954 - val_loss: 2.7709 - val_accuracy: 0.9111 - 6s/epoch - 816ms/step\n",
            "Epoch 51/1000\n",
            "\n",
            "Epoch 51: val_loss did not improve from 1.16839\n",
            "7/7 - 5s - loss: 0.1703 - accuracy: 0.9817 - val_loss: 5.6351 - val_accuracy: 0.8000 - 5s/epoch - 748ms/step\n",
            "Epoch 52/1000\n",
            "\n",
            "Epoch 52: val_loss did not improve from 1.16839\n",
            "7/7 - 5s - loss: 0.3393 - accuracy: 0.9862 - val_loss: 3.8806 - val_accuracy: 0.8667 - 5s/epoch - 750ms/step\n",
            "Epoch 53/1000\n",
            "\n",
            "Epoch 53: val_loss did not improve from 1.16839\n",
            "Restoring model weights from the end of the best epoch: 23.\n",
            "7/7 - 7s - loss: 1.7347e-04 - accuracy: 1.0000 - val_loss: 6.2058 - val_accuracy: 0.7889 - 7s/epoch - 951ms/step\n",
            "Epoch 53: early stopping\n"
          ]
        }
      ]
    },
    {
      "cell_type": "markdown",
      "source": [
        "# **Plot Hasil Train Model dan Pengujian Model**"
      ],
      "metadata": {
        "id": "JKd_vnHhOwcw"
      }
    },
    {
      "cell_type": "markdown",
      "source": [
        "**Plot Hasil Traning dan Testing**"
      ],
      "metadata": {
        "id": "1enrM9pMqMsO"
      }
    },
    {
      "cell_type": "code",
      "source": [
        "import matplotlib.pyplot as plt\n",
        "\n",
        "def show_graph(history) :\n",
        "  fig, ax= plt.subplots(1, 2, figsize=(18,5))\n",
        "  ax[0].set_title('Train & Validation Accuracy')\n",
        "  ax[0].plot(history.epoch, history.history['accuracy'], label='Train Accuracy')\n",
        "  ax[0].plot(history.epoch, history.history['val_accuracy'], label='Val Accuracy')\n",
        "  ax[0].legend(loc='upper left')\n",
        "  ax[0].set_xlabel('Epochs')\n",
        "  ax[0].set_ylabel('Accuracy')\n",
        "\n",
        "  ax[1].set_title('Train & Validation Loss')\n",
        "  ax[1].plot(history.epoch, history.history['loss'], label='Train Loss')\n",
        "  ax[1].plot(history.epoch, history.history['val_loss'], label='Val Loss')\n",
        "  ax[1].legend(loc='upper left')\n",
        "  ax[1].set_xlabel('Epochs')\n",
        "  ax[1].set_ylabel('Loss')\n",
        "\n",
        "show_graph(history)"
      ],
      "metadata": {
        "colab": {
          "base_uri": "https://localhost:8080/",
          "height": 464
        },
        "id": "NhVC-9YiO2qO",
        "outputId": "2b10d9f4-2ead-44ac-c32a-b1e0053f006c"
      },
      "execution_count": null,
      "outputs": [
        {
          "output_type": "display_data",
          "data": {
            "text/plain": [
              "<Figure size 1800x500 with 2 Axes>"
            ],
            "image/png": "[encoded data removed]"
          },
          "metadata": {}
        }
      ]
    },
    {
      "cell_type": "markdown",
      "source": [
        "**Pengujian Model Klasifikasi Gambar**"
      ],
      "metadata": {
        "id": "xurreWMGPNsT"
      }
    },
    {
      "cell_type": "code",
      "source": [
        "best_model = tf.keras.models.load_model('multiclassification_resnet.h5')"
      ],
      "metadata": {
        "id": "caoe3MSUMmzq"
      },
      "execution_count": null,
      "outputs": []
    },
    {
      "cell_type": "code",
      "source": [
        "y_test = validation_generator.classes\n",
        "y_pred_val = best_model.predict(validation_generator)\n",
        "y_pred_val =np.argmax(y_pred_val, axis=1)"
      ],
      "metadata": {
        "colab": {
          "base_uri": "https://localhost:8080/"
        },
        "id": "syrUywbNMxgt",
        "outputId": "72d03cd0-17c8-426d-8c4b-22517c13308a"
      },
      "execution_count": null,
      "outputs": [
        {
          "output_type": "stream",
          "name": "stdout",
          "text": [
            "3/3 [==============================] - 4s 747ms/step\n"
          ]
        }
      ]
    },
    {
      "cell_type": "code",
      "source": [
        "from sklearn.metrics import classification_report, confusion_matrix\n",
        "\n",
        "print(classification_report(y_test, y_pred_val, target_names =labels))"
      ],
      "metadata": {
        "colab": {
          "base_uri": "https://localhost:8080/"
        },
        "id": "ABs2PYI8NYqD",
        "outputId": "ea9a592c-0999-4cbd-bd3a-e5d575c1b886"
      },
      "execution_count": null,
      "outputs": [
        {
          "output_type": "stream",
          "name": "stdout",
          "text": [
            "              precision    recall  f1-score   support\n",
            "\n",
            "        cats       0.82      0.90      0.86        30\n",
            "        dogs       0.88      0.93      0.90        30\n",
            "      rabbit       0.96      0.80      0.87        30\n",
            "\n",
            "    accuracy                           0.88        90\n",
            "   macro avg       0.88      0.88      0.88        90\n",
            "weighted avg       0.88      0.88      0.88        90\n",
            "\n"
          ]
        }
      ]
    },
    {
      "cell_type": "markdown",
      "source": [
        "**Kesimpulan Akhir**\n",
        "\n",
        "Dari model yang telah dibuat ini menunjukkan model memiliki tingkat akurasi yang tinggi untuk validasi dan train. Namun, perlu diperhatikan model yang digunakan memiliki nilai validation loss yang sangat tinggi. Hal ini masih dimungkinkan disebabkan oleh data train yang dibatasi untuk klasifikasi 3 klass"
      ],
      "metadata": {
        "id": "QyW6vRzXqUdg"
      }
    },
    {
      "cell_type": "markdown",
      "source": [
        "# **PapanTulis (Unused Code)**"
      ],
      "metadata": {
        "id": "6gQs6Y4_ek8F"
      }
    },
    {
      "cell_type": "code",
      "source": [
        "import tensorflow as tf\n",
        "from tensorflow.keras.applications import MobileNetV2\n",
        "\n",
        "IMG_SHAPE = (image_size, image_size) + (3, )\n",
        "\n",
        "model2 = tf.keras.models.Sequential(\n",
        "    #MobileNetV2 Model\n",
        "    MobileNetV2(weights ='imagenet', include_top = False, input_shape = IMG_SHAPE),\n",
        "    #Layer Flatten\n",
        "    tf.keras.layers.Flatten(),\n",
        "    #512 neuron hidden layer\n",
        "    tf.keras.layers.Dense(512, activation ='relu'),\n",
        "    tf.keras.layers.Dense(256, activation ='relu'),\n",
        "    tf.keras.layers.Dense(3, activation='softmax')\n",
        ")\n",
        "\n",
        "model2.layers[0].trainable =False"
      ],
      "metadata": {
        "colab": {
          "base_uri": "https://localhost:8080/",
          "height": 430
        },
        "id": "7IAVdgYBGG7M",
        "outputId": "87688777-94d8-4e63-a15c-e99075ef1924"
      },
      "execution_count": null,
      "outputs": [
        {
          "output_type": "error",
          "ename": "TypeError",
          "evalue": "Sequential.__init__() takes from 1 to 3 positional arguments but 6 were given",
          "traceback": [
            "\u001b[0;31m---------------------------------------------------------------------------\u001b[0m",
            "\u001b[0;31mTypeError\u001b[0m                                 Traceback (most recent call last)",
            "\u001b[0;32m<ipython-input-40-60e51cdc2ba0>\u001b[0m in \u001b[0;36m<cell line: 6>\u001b[0;34m()\u001b[0m\n\u001b[1;32m      4\u001b[0m \u001b[0mIMG_SHAPE\u001b[0m \u001b[0;34m=\u001b[0m \u001b[0;34m(\u001b[0m\u001b[0mimage_size\u001b[0m\u001b[0;34m,\u001b[0m \u001b[0mimage_size\u001b[0m\u001b[0;34m)\u001b[0m \u001b[0;34m+\u001b[0m \u001b[0;34m(\u001b[0m\u001b[0;36m3\u001b[0m\u001b[0;34m,\u001b[0m \u001b[0;34m)\u001b[0m\u001b[0;34m\u001b[0m\u001b[0;34m\u001b[0m\u001b[0m\n\u001b[1;32m      5\u001b[0m \u001b[0;34m\u001b[0m\u001b[0m\n\u001b[0;32m----> 6\u001b[0;31m model2 = tf.keras.models.Sequential(\n\u001b[0m\u001b[1;32m      7\u001b[0m     \u001b[0;31m#MobileNetV2 Model\u001b[0m\u001b[0;34m\u001b[0m\u001b[0;34m\u001b[0m\u001b[0m\n\u001b[1;32m      8\u001b[0m     \u001b[0mMobileNetV2\u001b[0m\u001b[0;34m(\u001b[0m\u001b[0mweights\u001b[0m \u001b[0;34m=\u001b[0m\u001b[0;34m'imagenet'\u001b[0m\u001b[0;34m,\u001b[0m \u001b[0minclude_top\u001b[0m \u001b[0;34m=\u001b[0m \u001b[0;32mFalse\u001b[0m\u001b[0;34m,\u001b[0m \u001b[0minput_shape\u001b[0m \u001b[0;34m=\u001b[0m \u001b[0mIMG_SHAPE\u001b[0m\u001b[0;34m)\u001b[0m\u001b[0;34m,\u001b[0m\u001b[0;34m\u001b[0m\u001b[0;34m\u001b[0m\u001b[0m\n",
            "\u001b[0;32m/usr/local/lib/python3.10/dist-packages/tensorflow/python/trackable/base.py\u001b[0m in \u001b[0;36m_method_wrapper\u001b[0;34m(self, *args, **kwargs)\u001b[0m\n\u001b[1;32m    202\u001b[0m     \u001b[0mself\u001b[0m\u001b[0;34m.\u001b[0m\u001b[0m_self_setattr_tracking\u001b[0m \u001b[0;34m=\u001b[0m \u001b[0;32mFalse\u001b[0m  \u001b[0;31m# pylint: disable=protected-access\u001b[0m\u001b[0;34m\u001b[0m\u001b[0;34m\u001b[0m\u001b[0m\n\u001b[1;32m    203\u001b[0m     \u001b[0;32mtry\u001b[0m\u001b[0;34m:\u001b[0m\u001b[0;34m\u001b[0m\u001b[0;34m\u001b[0m\u001b[0m\n\u001b[0;32m--> 204\u001b[0;31m       \u001b[0mresult\u001b[0m \u001b[0;34m=\u001b[0m \u001b[0mmethod\u001b[0m\u001b[0;34m(\u001b[0m\u001b[0mself\u001b[0m\u001b[0;34m,\u001b[0m \u001b[0;34m*\u001b[0m\u001b[0margs\u001b[0m\u001b[0;34m,\u001b[0m \u001b[0;34m**\u001b[0m\u001b[0mkwargs\u001b[0m\u001b[0;34m)\u001b[0m\u001b[0;34m\u001b[0m\u001b[0;34m\u001b[0m\u001b[0m\n\u001b[0m\u001b[1;32m    205\u001b[0m     \u001b[0;32mfinally\u001b[0m\u001b[0;34m:\u001b[0m\u001b[0;34m\u001b[0m\u001b[0;34m\u001b[0m\u001b[0m\n\u001b[1;32m    206\u001b[0m       \u001b[0mself\u001b[0m\u001b[0;34m.\u001b[0m\u001b[0m_self_setattr_tracking\u001b[0m \u001b[0;34m=\u001b[0m \u001b[0mprevious_value\u001b[0m  \u001b[0;31m# pylint: disable=protected-access\u001b[0m\u001b[0;34m\u001b[0m\u001b[0;34m\u001b[0m\u001b[0m\n",
            "\u001b[0;32m/usr/local/lib/python3.10/dist-packages/keras/src/utils/traceback_utils.py\u001b[0m in \u001b[0;36merror_handler\u001b[0;34m(*args, **kwargs)\u001b[0m\n\u001b[1;32m     68\u001b[0m             \u001b[0;31m# To get the full stack trace, call:\u001b[0m\u001b[0;34m\u001b[0m\u001b[0;34m\u001b[0m\u001b[0m\n\u001b[1;32m     69\u001b[0m             \u001b[0;31m# `tf.debugging.disable_traceback_filtering()`\u001b[0m\u001b[0;34m\u001b[0m\u001b[0;34m\u001b[0m\u001b[0m\n\u001b[0;32m---> 70\u001b[0;31m             \u001b[0;32mraise\u001b[0m \u001b[0me\u001b[0m\u001b[0;34m.\u001b[0m\u001b[0mwith_traceback\u001b[0m\u001b[0;34m(\u001b[0m\u001b[0mfiltered_tb\u001b[0m\u001b[0;34m)\u001b[0m \u001b[0;32mfrom\u001b[0m \u001b[0;32mNone\u001b[0m\u001b[0;34m\u001b[0m\u001b[0;34m\u001b[0m\u001b[0m\n\u001b[0m\u001b[1;32m     71\u001b[0m         \u001b[0;32mfinally\u001b[0m\u001b[0;34m:\u001b[0m\u001b[0;34m\u001b[0m\u001b[0;34m\u001b[0m\u001b[0m\n\u001b[1;32m     72\u001b[0m             \u001b[0;32mdel\u001b[0m \u001b[0mfiltered_tb\u001b[0m\u001b[0;34m\u001b[0m\u001b[0;34m\u001b[0m\u001b[0m\n",
            "\u001b[0;32m/usr/local/lib/python3.10/dist-packages/keras/src/utils/traceback_utils.py\u001b[0m in \u001b[0;36merror_handler\u001b[0;34m(*args, **kwargs)\u001b[0m\n\u001b[1;32m     63\u001b[0m         \u001b[0mfiltered_tb\u001b[0m \u001b[0;34m=\u001b[0m \u001b[0;32mNone\u001b[0m\u001b[0;34m\u001b[0m\u001b[0;34m\u001b[0m\u001b[0m\n\u001b[1;32m     64\u001b[0m         \u001b[0;32mtry\u001b[0m\u001b[0;34m:\u001b[0m\u001b[0;34m\u001b[0m\u001b[0;34m\u001b[0m\u001b[0m\n\u001b[0;32m---> 65\u001b[0;31m             \u001b[0;32mreturn\u001b[0m \u001b[0mfn\u001b[0m\u001b[0;34m(\u001b[0m\u001b[0;34m*\u001b[0m\u001b[0margs\u001b[0m\u001b[0;34m,\u001b[0m \u001b[0;34m**\u001b[0m\u001b[0mkwargs\u001b[0m\u001b[0;34m)\u001b[0m\u001b[0;34m\u001b[0m\u001b[0;34m\u001b[0m\u001b[0m\n\u001b[0m\u001b[1;32m     66\u001b[0m         \u001b[0;32mexcept\u001b[0m \u001b[0mException\u001b[0m \u001b[0;32mas\u001b[0m \u001b[0me\u001b[0m\u001b[0;34m:\u001b[0m\u001b[0;34m\u001b[0m\u001b[0;34m\u001b[0m\u001b[0m\n\u001b[1;32m     67\u001b[0m             \u001b[0mfiltered_tb\u001b[0m \u001b[0;34m=\u001b[0m \u001b[0m_process_traceback_frames\u001b[0m\u001b[0;34m(\u001b[0m\u001b[0me\u001b[0m\u001b[0;34m.\u001b[0m\u001b[0m__traceback__\u001b[0m\u001b[0;34m)\u001b[0m\u001b[0;34m\u001b[0m\u001b[0;34m\u001b[0m\u001b[0m\n",
            "\u001b[0;31mTypeError\u001b[0m: Sequential.__init__() takes from 1 to 3 positional arguments but 6 were given"
          ]
        }
      ]
    },
    {
      "cell_type": "code",
      "source": [
        "model2.summary()"
      ],
      "metadata": {
        "colab": {
          "base_uri": "https://localhost:8080/"
        },
        "id": "i9LSd23CHc-h",
        "outputId": "4ee1fe5c-837e-496f-9afa-06970c4e7384"
      },
      "execution_count": null,
      "outputs": [
        {
          "output_type": "stream",
          "name": "stdout",
          "text": [
            "Model: \"sequential_1\"\n",
            "_________________________________________________________________\n",
            " Layer (type)                Output Shape              Param #   \n",
            "=================================================================\n",
            " mobilenetv2_1.00_224 (Func  (None, 7, 7, 1280)        2257984   \n",
            " tional)                                                         \n",
            "                                                                 \n",
            " flatten_1 (Flatten)         (None, 62720)             0         \n",
            "                                                                 \n",
            " dense_3 (Dense)             (None, 512)               32113152  \n",
            "                                                                 \n",
            " dense_4 (Dense)             (None, 256)               131328    \n",
            "                                                                 \n",
            " dense_5 (Dense)             (None, 3)                 771       \n",
            "                                                                 \n",
            "=================================================================\n",
            "Total params: 34503235 (131.62 MB)\n",
            "Trainable params: 32245251 (123.01 MB)\n",
            "Non-trainable params: 2257984 (8.61 MB)\n",
            "_________________________________________________________________\n"
          ]
        }
      ]
    },
    {
      "cell_type": "code",
      "source": [
        "model2.summary()"
      ],
      "metadata": {
        "id": "1tCRbpQTGKVL"
      },
      "execution_count": null,
      "outputs": []
    },
    {
      "cell_type": "code",
      "source": [
        "import splitfolders #Import library splitfolder\n",
        "\n",
        " #memilih basis direktori yaitu rps-cv-images dimana dalam folder ini terdapat 3 folder saja yang dibutuhkan yaitu rock, paper, dan scissor\n",
        "splitfolders.ratio(cat_dog, output='/content/cat_dog', seed= 1337, ratio=((100/270), (170/270))) #rasio pembagian train dan validation disesuaikan dengan perintah yaitu 6/4\n",
        "splitfolders.ratio(rabbit, output='/content/rabbit', seed= 1337, ratio=((103/800), (697/800)))"
      ],
      "metadata": {
        "colab": {
          "base_uri": "https://localhost:8080/"
        },
        "id": "VGobi1xjfKO9",
        "outputId": "2747ac76-8bb2-4f5c-e548-cc854c3eb20a"
      },
      "execution_count": null,
      "outputs": [
        {
          "output_type": "stream",
          "name": "stderr",
          "text": [
            "Copying files: 557 files [00:00, 3210.00 files/s]\n",
            "Copying files: 1600 files [00:00, 4523.71 files/s]\n"
          ]
        }
      ]
    },
    {
      "cell_type": "code",
      "source": [
        "#Membuat folder baru\n",
        "import os\n",
        "\n",
        "os.mkdir('/content/main_dir')\n",
        "os.mkdir('/content/main_dir/cats')\n",
        "os.mkdir('/content/main_dir/dogs')\n",
        "os.mkdir('/content/main_dir/rabbits')"
      ],
      "metadata": {
        "id": "HxzDq43SlDe_"
      },
      "execution_count": null,
      "outputs": []
    },
    {
      "cell_type": "code",
      "source": [
        "#Mengcopy file dari masing-masing file train\n",
        "\n",
        "!cp /content/cat_dog/train/cats/*.jpg /content/main_dir/cats\n",
        "!cp /content/cat_dog/train/dogs*.jpg /content/main_dir/dogs\n",
        "!cp /content/rabbit/train/rabbit*.jpg /content/main_dir/rabbits"
      ],
      "metadata": {
        "id": "lnWFeuwxlbaB"
      },
      "execution_count": null,
      "outputs": []
    },
    {
      "cell_type": "code",
      "source": [
        "counting_dir('/content/train')"
      ],
      "metadata": {
        "id": "PP46GpAYmvqI"
      },
      "execution_count": null,
      "outputs": []
    },
    {
      "cell_type": "code",
      "source": [
        "size_of_dir = []"
      ],
      "metadata": {
        "id": "ZNnDLKGPmLu8"
      },
      "execution_count": null,
      "outputs": []
    },
    {
      "cell_type": "code",
      "source": [
        "count = len(fnmatch.filter(os.listdir('/content/main_dir/train/cats'), '*.*'))\n",
        "size_of_dir.append(count)"
      ],
      "metadata": {
        "id": "Cz9zS2WXgysd"
      },
      "execution_count": null,
      "outputs": []
    },
    {
      "cell_type": "code",
      "source": [
        "count = len(fnmatch.filter(os.listdir('/content/main_dir/train/dogs'), '*.*'))\n",
        "size_of_dir.append(count)"
      ],
      "metadata": {
        "id": "Xp6JD-R8mQF3"
      },
      "execution_count": null,
      "outputs": []
    },
    {
      "cell_type": "code",
      "source": [
        "count = len(fnmatch.filter(os.listdir('/content/main_dir/train/rabbit'), '*.*'))\n",
        "size_of_dir.append(count)"
      ],
      "metadata": {
        "id": "Z3T9tCOHmZv0"
      },
      "execution_count": null,
      "outputs": []
    },
    {
      "cell_type": "code",
      "source": [
        "size_of_dir"
      ],
      "metadata": {
        "colab": {
          "base_uri": "https://localhost:8080/"
        },
        "id": "uEjeZZW6hHXQ",
        "outputId": "dc5c5b1c-4c14-482f-a4bd-65a8f795e737"
      },
      "execution_count": null,
      "outputs": [
        {
          "output_type": "execute_result",
          "data": {
            "text/plain": [
              "[103, 102, 103]"
            ]
          },
          "metadata": {},
          "execution_count": 38
        }
      ]
    },
    {
      "cell_type": "code",
      "source": [
        "list_of_tuples= []\n",
        "\n",
        "def information_data(dir_data) :\n",
        "  for image_class in os.listdir(dir_data):\n",
        "    for image in os.listdir(os.path.join(dir_data, image_class)) :\n",
        "      image_path = os.path.join(dir_data, image_class, image)\n",
        "      img = cv2.imread(image_path)\n",
        "      list_of_tuples.append(img.shape)\n",
        "\n",
        "size_of_dir = []\n",
        "\n",
        "def counting_dir(directory) :\n",
        "  for image_class in os.listdir(directory):\n",
        "    for image in os.listdir(os.path.join(directory, image_class)) :\n",
        "      image_path1 = os.path.join(directory, image_class, image)\n",
        "      count = len(fnmatch.filter(os.listdir(image_path1), '*.*'))\n",
        "      size_of_dir.append(count)"
      ],
      "metadata": {
        "id": "hdT_PGlsZYmY"
      },
      "execution_count": null,
      "outputs": []
    },
    {
      "cell_type": "code",
      "source": [
        "size_of_dir =[]\n",
        "\n",
        "'''\n",
        "def counting_dir(directory) :\n",
        "  for image_loc in os.listdir(directory):\n",
        "    count = len(fnmatch.filter(os.listdir(directory), '*.*'))\n",
        "    size_of_dir.append(count)\n",
        "\n",
        "def counting_dir(directory) :\n",
        "  for image_class in os.listdir(directory):\n",
        "    for image in os.listdir(os.path.join(directory, image_class)) :\n",
        "      image_path1 = os.path.join(directory, image_class, image)\n",
        "      print(image_path1)\n",
        "'''\n",
        "def counting_dir(directory) :\n",
        "  for image_class in os.listdir(directory):\n",
        "    image_path1 = os.path.join(directory, image_class)\n",
        "    print(image_path1)\n",
        "    count = len(fnmatch.filter(os.listdir(image_path1), '*.*'))\n",
        "    size_of_dir.append(count)\n",
        "    print(size_of_dir)"
      ],
      "metadata": {
        "id": "WPr4IYX3bIjx"
      },
      "execution_count": null,
      "outputs": []
    },
    {
      "cell_type": "code",
      "source": [
        "counting_dir('/content/main_dir')"
      ],
      "metadata": {
        "colab": {
          "base_uri": "https://localhost:8080/"
        },
        "id": "h7VCjcIZZZ-v",
        "outputId": "c7a4d98c-39ed-4cd1-83f3-251301d630ac"
      },
      "execution_count": null,
      "outputs": [
        {
          "output_type": "stream",
          "name": "stdout",
          "text": [
            "/content/main_dir/dog\n",
            "[278]\n",
            "/content/main_dir/cat\n",
            "[278, 279]\n",
            "/content/main_dir/rabbit\n",
            "[278, 279, 800]\n"
          ]
        }
      ]
    },
    {
      "cell_type": "code",
      "source": [],
      "metadata": {
        "colab": {
          "base_uri": "https://localhost:8080/",
          "height": 148
        },
        "id": "4DLGc4yhZ9Ur",
        "outputId": "9feda736-f92c-4bbd-ba8e-cb79f3cb421b"
      },
      "execution_count": null,
      "outputs": [
        {
          "output_type": "error",
          "ename": "NameError",
          "evalue": "name 'image_path1' is not defined",
          "traceback": [
            "\u001b[0;31m---------------------------------------------------------------------------\u001b[0m",
            "\u001b[0;31mNameError\u001b[0m                                 Traceback (most recent call last)",
            "\u001b[0;32m<ipython-input-57-9a0636542f20>\u001b[0m in \u001b[0;36m<cell line: 1>\u001b[0;34m()\u001b[0m\n\u001b[0;32m----> 1\u001b[0;31m \u001b[0mimage_path1\u001b[0m\u001b[0;34m\u001b[0m\u001b[0;34m\u001b[0m\u001b[0m\n\u001b[0m",
            "\u001b[0;31mNameError\u001b[0m: name 'image_path1' is not defined"
          ]
        }
      ]
    },
    {
      "cell_type": "code",
      "source": [
        "size_directory =[]\n",
        "\n",
        "def counting_dir(directory) :\n",
        "  for image_class in os.listdir(dir_data) :\n",
        "    count = len(fmatch.filter(os.listdir(di)))"
      ],
      "metadata": {
        "id": "yRKB2_q3Ylyg"
      },
      "execution_count": null,
      "outputs": []
    },
    {
      "cell_type": "code",
      "source": [
        "kaggle datasets download -d samuelcortinhas/cats-and-dogs-image-classification\n",
        "#for cat & dog"
      ],
      "metadata": {
        "id": "sqVPZpF3K-vS"
      },
      "execution_count": null,
      "outputs": []
    },
    {
      "cell_type": "code",
      "source": [
        "kaggle datasets download -d muniryadi/cat-vs-rabbit\n",
        "#for rabbit"
      ],
      "metadata": {
        "id": "PpoAufSSLB75"
      },
      "execution_count": null,
      "outputs": []
    },
    {
      "cell_type": "code",
      "source": [],
      "metadata": {
        "id": "aszWrulcLGej"
      },
      "execution_count": null,
      "outputs": []
    },
    {
      "cell_type": "code",
      "source": [
        "class Callback(tf.keras.callbacks.Callback) :\n",
        "  def on_epoch_end(self, epoch, logs={}) :\n",
        "    if(logs.get('accuracy') > 0.8 and logs.get('val_accuracy') > 0.8) :\n",
        "      print('\\nSelamat Akurasi >80% tercapai untuk Training dan Validasi !!!!!')\n",
        "      self.model.stop_training =True\n",
        "callbacks = Callback()"
      ],
      "metadata": {
        "id": "aR_mfgEiAOpF"
      },
      "execution_count": null,
      "outputs": []
    }
  ]
}